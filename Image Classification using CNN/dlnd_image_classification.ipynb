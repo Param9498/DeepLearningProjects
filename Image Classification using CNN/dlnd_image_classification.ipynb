{
 "cells": [
  {
   "cell_type": "markdown",
   "metadata": {
    "collapsed": true,
    "deletable": true,
    "editable": true
   },
   "source": [
    "# Image Classification\n",
    "In this project, you'll classify images from the [CIFAR-10 dataset](https://www.cs.toronto.edu/~kriz/cifar.html).  The dataset consists of airplanes, dogs, cats, and other objects. You'll preprocess the images, then train a convolutional neural network on all the samples. The images need to be normalized and the labels need to be one-hot encoded.  You'll get to apply what you learned and build a convolutional, max pooling, dropout, and fully connected layers.  At the end, you'll get to see your neural network's predictions on the sample images.\n",
    "## Get the Data\n",
    "Run the following cell to download the [CIFAR-10 dataset for python](https://www.cs.toronto.edu/~kriz/cifar-10-python.tar.gz)."
   ]
  },
  {
   "cell_type": "code",
   "execution_count": 1,
   "metadata": {
    "collapsed": false,
    "deletable": true,
    "editable": true
   },
   "outputs": [
    {
     "name": "stdout",
     "output_type": "stream",
     "text": [
      "All files found!\n"
     ]
    }
   ],
   "source": [
    "\"\"\"\n",
    "DON'T MODIFY ANYTHING IN THIS CELL THAT IS BELOW THIS LINE\n",
    "\"\"\"\n",
    "from urllib.request import urlretrieve\n",
    "from os.path import isfile, isdir\n",
    "from tqdm import tqdm\n",
    "import problem_unittests as tests\n",
    "import tarfile\n",
    "import sklearn.preprocessing\n",
    "\n",
    "cifar10_dataset_folder_path = 'cifar-10-batches-py'\n",
    "\n",
    "class DLProgress(tqdm):\n",
    "    last_block = 0\n",
    "\n",
    "    def hook(self, block_num=1, block_size=1, total_size=None):\n",
    "        self.total = total_size\n",
    "        self.update((block_num - self.last_block) * block_size)\n",
    "        self.last_block = block_num\n",
    "\n",
    "if not isfile('cifar-10-python.tar.gz'):\n",
    "    with DLProgress(unit='B', unit_scale=True, miniters=1, desc='CIFAR-10 Dataset') as pbar:\n",
    "        urlretrieve(\n",
    "            'https://www.cs.toronto.edu/~kriz/cifar-10-python.tar.gz',\n",
    "            'cifar-10-python.tar.gz',\n",
    "            pbar.hook)\n",
    "\n",
    "if not isdir(cifar10_dataset_folder_path):\n",
    "    with tarfile.open('cifar-10-python.tar.gz') as tar:\n",
    "        tar.extractall()\n",
    "        tar.close()\n",
    "\n",
    "\n",
    "tests.test_folder_path(cifar10_dataset_folder_path)"
   ]
  },
  {
   "cell_type": "markdown",
   "metadata": {
    "deletable": true,
    "editable": true
   },
   "source": [
    "## Explore the Data\n",
    "The dataset is broken into batches to prevent your machine from running out of memory.  The CIFAR-10 dataset consists of 5 batches, named `data_batch_1`, `data_batch_2`, etc.. Each batch contains the labels and images that are one of the following:\n",
    "* airplane\n",
    "* automobile\n",
    "* bird\n",
    "* cat\n",
    "* deer\n",
    "* dog\n",
    "* frog\n",
    "* horse\n",
    "* ship\n",
    "* truck\n",
    "\n",
    "Understanding a dataset is part of making predictions on the data.  Play around with the code cell below by changing the `batch_id` and `sample_id`. The `batch_id` is the id for a batch (1-5). The `sample_id` is the id for a image and label pair in the batch.\n",
    "\n",
    "Ask yourself \"What are all possible labels?\", \"What is the range of values for the image data?\", \"Are the labels in order or random?\".  Answers to questions like these will help you preprocess the data and end up with better predictions."
   ]
  },
  {
   "cell_type": "code",
   "execution_count": 2,
   "metadata": {
    "collapsed": false,
    "deletable": true,
    "editable": true
   },
   "outputs": [
    {
     "name": "stdout",
     "output_type": "stream",
     "text": [
      "\n",
      "Stats of batch 1:\n",
      "Samples: 10000\n",
      "Label Counts: {0: 1005, 1: 974, 2: 1032, 3: 1016, 4: 999, 5: 937, 6: 1030, 7: 1001, 8: 1025, 9: 981}\n",
      "First 20 Labels: [6, 9, 9, 4, 1, 1, 2, 7, 8, 3, 4, 7, 7, 2, 9, 9, 9, 3, 2, 6]\n",
      "\n",
      "Example of Image 5:\n",
      "Image - Min Value: 0 Max Value: 252\n",
      "Image - Shape: (32, 32, 3)\n",
      "Label - Label Id: 1 Name: automobile\n"
     ]
    },
    {
     "data": {
      "image/png": "[encoded data removed]",
      "text/plain": [
       "<matplotlib.figure.Figure at 0x7f452e0a2080>"
      ]
     },
     "metadata": {
      "image/png": {
       "height": 250,
       "width": 253
      }
     },
     "output_type": "display_data"
    }
   ],
   "source": [
    "%matplotlib inline\n",
    "%config InlineBackend.figure_format = 'retina'\n",
    "\n",
    "import helper\n",
    "import numpy as np\n",
    "\n",
    "# Explore the dataset\n",
    "batch_id = 1\n",
    "sample_id = 5\n",
    "helper.display_stats(cifar10_dataset_folder_path, batch_id, sample_id)"
   ]
  },
  {
   "cell_type": "markdown",
   "metadata": {
    "deletable": true,
    "editable": true
   },
   "source": [
    "## Implement Preprocess Functions\n",
    "### Normalize\n",
    "In the cell below, implement the `normalize` function to take in image data, `x`, and return it as a normalized Numpy array. The values should be in the range of 0 to 1, inclusive.  The return object should be the same shape as `x`."
   ]
  },
  {
   "cell_type": "code",
   "execution_count": 3,
   "metadata": {
    "collapsed": false,
    "deletable": true,
    "editable": true
   },
   "outputs": [
    {
     "name": "stdout",
     "output_type": "stream",
     "text": [
      "Tests Passed\n"
     ]
    }
   ],
   "source": [
    "import matplotlib.pyplot as plt\n",
    "\n",
    "def normalize(x):\n",
    "    \"\"\"\n",
    "    Normalize a list of sample image data in the range of 0 to 1\n",
    "    : x: List of image data.  The image shape is (32, 32, 3)\n",
    "    : return: Numpy array of normalize data\n",
    "    \"\"\"\n",
    "    # TODO: Implement Function\n",
    "    #norm=np.linalg.norm(x)\n",
    "    #if norm==0:\n",
    "        #print(x)\n",
    "        #return x\n",
    "    #print(x/norm)\n",
    "    #return x/norm\n",
    "    #return None\n",
    "    return ((x-255)/255)+1\n",
    "#     result = np.copy(x).astype(np.float32)\n",
    "    \n",
    "#     for a in np.nditer(result, op_flags=['readwrite']):\n",
    "#           a[...] =  a / 255\n",
    "           \n",
    "#     return result\n",
    "\n",
    "\n",
    "\"\"\"\n",
    "DON'T MODIFY ANYTHING IN THIS CELL THAT IS BELOW THIS LINE\n",
    "\"\"\"\n",
    "tests.test_normalize(normalize)"
   ]
  },
  {
   "cell_type": "markdown",
   "metadata": {
    "deletable": true,
    "editable": true
   },
   "source": [
    "### One-hot encode\n",
    "Just like the previous code cell, you'll be implementing a function for preprocessing.  This time, you'll implement the `one_hot_encode` function. The input, `x`, are a list of labels.  Implement the function to return the list of labels as One-Hot encoded Numpy array.  The possible values for labels are 0 to 9. The one-hot encoding function should return the same encoding for each value between each call to `one_hot_encode`.  Make sure to save the map of encodings outside the function.\n",
    "\n",
    "Hint: Don't reinvent the wheel."
   ]
  },
  {
   "cell_type": "code",
   "execution_count": 4,
   "metadata": {
    "collapsed": false,
    "deletable": true,
    "editable": true
   },
   "outputs": [
    {
     "name": "stdout",
     "output_type": "stream",
     "text": [
      "Tests Passed\n"
     ]
    }
   ],
   "source": [
    "def one_hot_encode(x):\n",
    "    \"\"\"\n",
    "    One hot encode a list of sample labels. Return a one-hot encoded vector for each label.\n",
    "    : x: List of sample Labels\n",
    "    : return: Numpy array of one-hot encoded labels\n",
    "    \"\"\"\n",
    "    # TODO: Implement Function\n",
    "    one_hot = np.eye(10)[x]\n",
    "    #print(one_hot)\n",
    "    return one_hot\n",
    "    #return result\n",
    "    #lb = preprocessing.LabelBinarizer()\n",
    "    #lb.fit(arrayOfpossibleLabelValues)\n",
    "\n",
    "\n",
    "\"\"\"\n",
    "DON'T MODIFY ANYTHING IN THIS CELL THAT IS BELOW THIS LINE\n",
    "\"\"\"\n",
    "tests.test_one_hot_encode(one_hot_encode)"
   ]
  },
  {
   "cell_type": "markdown",
   "metadata": {
    "deletable": true,
    "editable": true
   },
   "source": [
    "### Randomize Data\n",
    "As you saw from exploring the data above, the order of the samples are randomized.  It doesn't hurt to randomize it again, but you don't need to for this dataset."
   ]
  },
  {
   "cell_type": "markdown",
   "metadata": {
    "deletable": true,
    "editable": true
   },
   "source": [
    "## Preprocess all the data and save it\n",
    "Running the code cell below will preprocess all the CIFAR-10 data and save it to file. The code below also uses 10% of the training data for validation."
   ]
  },
  {
   "cell_type": "code",
   "execution_count": 5,
   "metadata": {
    "collapsed": false,
    "deletable": true,
    "editable": true
   },
   "outputs": [],
   "source": [
    "\"\"\"\n",
    "DON'T MODIFY ANYTHING IN THIS CELL\n",
    "\"\"\"\n",
    "# Preprocess Training, Validation, and Testing Data\n",
    "helper.preprocess_and_save_data(cifar10_dataset_folder_path, normalize, one_hot_encode)"
   ]
  },
  {
   "cell_type": "markdown",
   "metadata": {
    "deletable": true,
    "editable": true
   },
   "source": [
    "# Check Point\n",
    "This is your first checkpoint.  If you ever decide to come back to this notebook or have to restart the notebook, you can start from here.  The preprocessed data has been saved to disk."
   ]
  },
  {
   "cell_type": "code",
   "execution_count": 6,
   "metadata": {
    "collapsed": true,
    "deletable": true,
    "editable": true
   },
   "outputs": [],
   "source": [
    "\"\"\"\n",
    "DON'T MODIFY ANYTHING IN THIS CELL\n",
    "\"\"\"\n",
    "import pickle\n",
    "import problem_unittests as tests\n",
    "import helper\n",
    "\n",
    "# Load the Preprocessed Validation data\n",
    "valid_features, valid_labels = pickle.load(open('preprocess_validation.p', mode='rb'))"
   ]
  },
  {
   "cell_type": "markdown",
   "metadata": {
    "deletable": true,
    "editable": true
   },
   "source": [
    "## Build the network\n",
    "For the neural network, you'll build each layer into a function.  Most of the code you've seen has been outside of functions. To test your code more thoroughly, we require that you put each layer in a function.  This allows us to give you better feedback and test for simple mistakes using our unittests before you submit your project.\n",
    "\n",
    "If you're finding it hard to dedicate enough time for this course a week, we've provided a small shortcut to this part of the project. In the next couple of problems, you'll have the option to use [TensorFlow Layers](https://www.tensorflow.org/api_docs/python/tf/layers) or [TensorFlow Layers (contrib)](https://www.tensorflow.org/api_guides/python/contrib.layers) to build each layer, except \"Convolutional & Max Pooling\" layer.  TF Layers is similar to Keras's and TFLearn's abstraction to layers, so it's easy to pickup.\n",
    "\n",
    "If you would like to get the most of this course, try to solve all the problems without TF Layers.  Let's begin!\n",
    "### Input\n",
    "The neural network needs to read the image data, one-hot encoded labels, and dropout keep probability. Implement the following functions\n",
    "* Implement `neural_net_image_input`\n",
    " * Return a [TF Placeholder](https://www.tensorflow.org/api_docs/python/tf/placeholder)\n",
    " * Set the shape using `image_shape` with batch size set to `None`.\n",
    " * Name the TensorFlow placeholder \"x\" using the TensorFlow `name` parameter in the [TF Placeholder](https://www.tensorflow.org/api_docs/python/tf/placeholder).\n",
    "* Implement `neural_net_label_input`\n",
    " * Return a [TF Placeholder](https://www.tensorflow.org/api_docs/python/tf/placeholder)\n",
    " * Set the shape using `n_classes` with batch size set to `None`.\n",
    " * Name the TensorFlow placeholder \"y\" using the TensorFlow `name` parameter in the [TF Placeholder](https://www.tensorflow.org/api_docs/python/tf/placeholder).\n",
    "* Implement `neural_net_keep_prob_input`\n",
    " * Return a [TF Placeholder](https://www.tensorflow.org/api_docs/python/tf/placeholder) for dropout keep probability.\n",
    " * Name the TensorFlow placeholder \"keep_prob\" using the TensorFlow `name` parameter in the [TF Placeholder](https://www.tensorflow.org/api_docs/python/tf/placeholder).\n",
    "\n",
    "These names will be used at the end of the project to load your saved model.\n",
    "\n",
    "Note: `None` for shapes in TensorFlow allow for a dynamic size."
   ]
  },
  {
   "cell_type": "code",
   "execution_count": 7,
   "metadata": {
    "collapsed": false,
    "deletable": true,
    "editable": true
   },
   "outputs": [
    {
     "name": "stdout",
     "output_type": "stream",
     "text": [
      "Image Input Tests Passed.\n",
      "Label Input Tests Passed.\n",
      "Keep Prob Tests Passed.\n"
     ]
    }
   ],
   "source": [
    "import tensorflow as tf\n",
    "\n",
    "\n",
    "\n",
    "def neural_net_image_input(image_shape):\n",
    "    \"\"\"\n",
    "    Return a Tensor for a bach of image input\n",
    "    : image_shape: Shape of the images\n",
    "    : return: Tensor for image input.\n",
    "    \"\"\"\n",
    "    return tf.placeholder(tf.float32, shape = [None, *image_shape], name='x')\n",
    "\n",
    "\n",
    "def neural_net_label_input(n_classes):\n",
    "    \"\"\"\n",
    "    Return a Tensor for a batch of label input\n",
    "    : n_classes: Number of classes\n",
    "    : return: Tensor for label input.\n",
    "    \"\"\"\n",
    "    return tf.placeholder(tf.float32, shape = [None, n_classes] ,name='y')\n",
    "\n",
    "\n",
    "def neural_net_keep_prob_input():\n",
    "    \"\"\"\n",
    "    Return a Tensor for keep probability\n",
    "    : return: Tensor for keep probability.\n",
    "    \"\"\"\n",
    "    return tf.placeholder(tf.float32,name='keep_prob')\n",
    "\n",
    "\n",
    "\"\"\"\n",
    "DON'T MODIFY ANYTHING IN THIS CELL THAT IS BELOW THIS LINE\n",
    "\"\"\"\n",
    "tf.reset_default_graph()\n",
    "tests.test_nn_image_inputs(neural_net_image_input)\n",
    "tests.test_nn_label_inputs(neural_net_label_input)\n",
    "tests.test_nn_keep_prob_inputs(neural_net_keep_prob_input)"
   ]
  },
  {
   "cell_type": "markdown",
   "metadata": {
    "deletable": true,
    "editable": true
   },
   "source": [
    "### Convolution and Max Pooling Layer\n",
    "Convolution layers have a lot of success with images. For this code cell, you should implement the function `conv2d_maxpool` to apply convolution then max pooling:\n",
    "* Create the weight and bias using `conv_ksize`, `conv_num_outputs` and the shape of `x_tensor`.\n",
    "* Apply a convolution to `x_tensor` using weight and `conv_strides`.\n",
    " * We recommend you use same padding, but you're welcome to use any padding.\n",
    "* Add bias\n",
    "* Add a nonlinear activation to the convolution.\n",
    "* Apply Max Pooling using `pool_ksize` and `pool_strides`.\n",
    " * We recommend you use same padding, but you're welcome to use any padding.\n",
    "\n",
    "Note: You **can't** use [TensorFlow Layers](https://www.tensorflow.org/api_docs/python/tf/layers) or [TensorFlow Layers (contrib)](https://www.tensorflow.org/api_guides/python/contrib.layers) for this layer.  You're free to use any TensorFlow package for all the other layers."
   ]
  },
  {
   "cell_type": "code",
   "execution_count": 8,
   "metadata": {
    "collapsed": false,
    "deletable": true,
    "editable": true
   },
   "outputs": [
    {
     "name": "stdout",
     "output_type": "stream",
     "text": [
      "Tests Passed\n"
     ]
    }
   ],
   "source": [
    "def conv2d_maxpool(x_tensor, conv_num_outputs, conv_ksize, conv_strides, pool_ksize, pool_strides):\n",
    "    \"\"\"\n",
    "    Apply convolution then max pooling to x_tensor\n",
    "    :param x_tensor: TensorFlow Tensor\n",
    "    :param conv_num_outputs: Number of outputs for the convolutional layer\n",
    "    :param conv_ksize: kernal size 2-D Tuple for the convolutional layer\n",
    "    :param conv_strides: Stride 2-D Tuple for convolution\n",
    "    :param pool_ksize: kernal size 2-D Tuple for pool\n",
    "    :param pool_strides: Stride 2-D Tuple for pool\n",
    "    : return: A tensor that represents convolution and max pooling of x_tensor\n",
    "    \"\"\"   \n",
    "    weights = tf.Variable(tf.truncated_normal([conv_ksize[0],conv_ksize[1], x_tensor.get_shape().as_list()[3],conv_num_outputs], stddev=0.05)) \n",
    "    bias = tf.Variable(tf.zeros(conv_num_outputs))\n",
    "        \n",
    "    x = tf.nn.conv2d(x_tensor, weights, strides= [1,conv_strides[0],conv_strides[1],1], padding='SAME')\n",
    "    x = tf.nn.bias_add(x, bias)\n",
    "    x = tf.nn.relu(x)\n",
    "    return tf.nn.max_pool(x, ksize=[1, pool_ksize[0], pool_ksize[1], 1],  strides = [1, pool_strides[0], pool_strides[1], 1], padding='SAME')\n",
    "\n",
    "\n",
    "\"\"\"\n",
    "DON'T MODIFY ANYTHING IN THIS CELL THAT IS BELOW THIS LINE\n",
    "\"\"\"\n",
    "tests.test_con_pool(conv2d_maxpool)"
   ]
  },
  {
   "cell_type": "markdown",
   "metadata": {
    "deletable": true,
    "editable": true
   },
   "source": [
    "### Flatten Layer\n",
    "Implement the `flatten` function to change the dimension of `x_tensor` from a 4-D tensor to a 2-D tensor.  The output should be the shape (*Batch Size*, *Flattened Image Size*). You can use [TensorFlow Layers](https://www.tensorflow.org/api_docs/python/tf/layers) or [TensorFlow Layers (contrib)](https://www.tensorflow.org/api_guides/python/contrib.layers) for this layer."
   ]
  },
  {
   "cell_type": "code",
   "execution_count": 9,
   "metadata": {
    "collapsed": false,
    "deletable": true,
    "editable": true
   },
   "outputs": [
    {
     "name": "stdout",
     "output_type": "stream",
     "text": [
      "Tests Passed\n"
     ]
    }
   ],
   "source": [
    "\n",
    "def flatten(x_tensor):\n",
    "    \"\"\"\n",
    "    Flatten x_tensor to (Batch Size, Flattened Image Size)\n",
    "    : x_tensor: A tensor of size (Batch Size, ...), where ... are the image dimensions.\n",
    "    : return: A tensor of size (Batch Size, Flattened Image Size).\n",
    "    \"\"\"\n",
    "    return tf.reshape(x_tensor, [-1, np.prod(x_tensor.get_shape().as_list()[1:])])\n",
    "\n",
    "\"\"\"\n",
    "DON'T MODIFY ANYTHING IN THIS CELL THAT IS BELOW THIS LINE\n",
    "\"\"\"\n",
    "tests.test_flatten(flatten)"
   ]
  },
  {
   "cell_type": "markdown",
   "metadata": {
    "deletable": true,
    "editable": true
   },
   "source": [
    "### Fully-Connected Layer\n",
    "Implement the `fully_conn` function to apply a fully connected layer to `x_tensor` with the shape (*Batch Size*, *num_outputs*). You can use [TensorFlow Layers](https://www.tensorflow.org/api_docs/python/tf/layers) or [TensorFlow Layers (contrib)](https://www.tensorflow.org/api_guides/python/contrib.layers) for this layer."
   ]
  },
  {
   "cell_type": "code",
   "execution_count": 10,
   "metadata": {
    "collapsed": false,
    "deletable": true,
    "editable": true
   },
   "outputs": [
    {
     "name": "stdout",
     "output_type": "stream",
     "text": [
      "Tests Passed\n"
     ]
    }
   ],
   "source": [
    "def fully_conn(x_tensor, num_outputs):\n",
    "    \"\"\"\n",
    "    Apply a fully connected layer to x_tensor using weight and bias\n",
    "    : x_tensor: A 2-D tensor where the first dimension is batch size.\n",
    "    : num_outputs: The number of output that the new tensor should be.\n",
    "    : return: A 2-D tensor where the second dimension is num_outputs.\n",
    "    \"\"\"\n",
    "    weights = tf.Variable(tf.truncated_normal([x_tensor.get_shape().as_list()[1], num_outputs], mean=0.0, stddev=0.05))\n",
    "    bias = tf.Variable(tf.zeros(num_outputs))\n",
    "    return tf.nn.relu(tf.add(tf.matmul(x_tensor, weights), bias))\n",
    "\n",
    "\n",
    "\"\"\"\n",
    "DON'T MODIFY ANYTHING IN THIS CELL THAT IS BELOW THIS LINE\n",
    "\"\"\"\n",
    "tests.test_fully_conn(fully_conn)"
   ]
  },
  {
   "cell_type": "markdown",
   "metadata": {
    "deletable": true,
    "editable": true
   },
   "source": [
    "### Output Layer\n",
    "Implement the `output` function to apply a fully connected layer to `x_tensor` with the shape (*Batch Size*, *num_outputs*). You can use [TensorFlow Layers](https://www.tensorflow.org/api_docs/python/tf/layers) or [TensorFlow Layers (contrib)](https://www.tensorflow.org/api_guides/python/contrib.layers) for this layer.\n",
    "\n",
    "Note: Activation, softmax, or cross entropy shouldn't be applied to this."
   ]
  },
  {
   "cell_type": "code",
   "execution_count": 11,
   "metadata": {
    "collapsed": false,
    "deletable": true,
    "editable": true
   },
   "outputs": [
    {
     "name": "stdout",
     "output_type": "stream",
     "text": [
      "Tests Passed\n"
     ]
    }
   ],
   "source": [
    "def output(x_tensor, num_outputs):\n",
    "    \"\"\"\n",
    "    Apply a output layer to x_tensor using weight and bias\n",
    "    : x_tensor: A 2-D tensor where the first dimension is batch size.\n",
    "    : num_outputs: The number of output that the new tensor should be.\n",
    "    : return: A 2-D tensor where the second dimension is num_outputs.\n",
    "    \"\"\"\n",
    "    weights = tf.Variable(tf.truncated_normal([x_tensor.get_shape().as_list()[1], num_outputs], mean=0.0, stddev=0.05))\n",
    "    bias = tf.Variable(tf.zeros(num_outputs))\n",
    "    \n",
    "    return tf.add(tf.matmul(x_tensor, weights), bias)\n",
    "\n",
    "\"\"\"\n",
    "DON'T MODIFY ANYTHING IN THIS CELL THAT IS BELOW THIS LINE\n",
    "\"\"\"\n",
    "tests.test_output(output)"
   ]
  },
  {
   "cell_type": "markdown",
   "metadata": {
    "deletable": true,
    "editable": true
   },
   "source": [
    "### Create Convolutional Model\n",
    "Implement the function `conv_net` to create a convolutional neural network model. The function takes in a batch of images, `x`, and outputs logits.  Use the layers you created above to create this model:\n",
    "\n",
    "* Apply 1, 2, or 3 Convolution and Max Pool layers\n",
    "* Apply a Flatten Layer\n",
    "* Apply 1, 2, or 3 Fully Connected Layers\n",
    "* Apply an Output Layer\n",
    "* Return the output\n",
    "* Apply [TensorFlow's Dropout](https://www.tensorflow.org/api_docs/python/tf/nn/dropout) to one or more layers in the model using `keep_prob`. "
   ]
  },
  {
   "cell_type": "code",
   "execution_count": 12,
   "metadata": {
    "collapsed": false,
    "deletable": true,
    "editable": true
   },
   "outputs": [
    {
     "name": "stdout",
     "output_type": "stream",
     "text": [
      "Neural Network Built!\n"
     ]
    }
   ],
   "source": [
    "def conv_net(x, keep_prob):\n",
    "    \"\"\"\n",
    "    Create a convolutional neural network model\n",
    "    : x: Placeholder tensor that holds image data.\n",
    "    : keep_prob: Placeholder tensor that hold dropout keep probability.\n",
    "    : return: Tensor that represents logits\n",
    "    \"\"\"\n",
    "    \n",
    "    conv_num_outputs = [32,128,512]\n",
    "    conv_ksize = [(8,8),(4,4),(2,2)]\n",
    "    conv_strides = (1,1)\n",
    "    pool_ksize = (4,4)\n",
    "    pool_strides = (2,2)\n",
    "    num_outputs = 10\n",
    "        \n",
    "    # TODO: Apply 1, 2, or 3 Convolution and Max Pool layers\n",
    "    #    Play around with different number of outputs, kernel size and stride\n",
    "    # Function Definition from Above:\n",
    "    #    conv2d_maxpool(x_tensor, conv_num_outputs, conv_ksize, conv_strides, pool_ksize, pool_strides)\n",
    "    net = conv2d_maxpool(x, conv_num_outputs[0],conv_ksize[0],conv_strides,pool_ksize,pool_strides)    \n",
    "    net = conv2d_maxpool(net, conv_num_outputs[1],conv_ksize[1],conv_strides,pool_ksize,pool_strides)\n",
    "    net = conv2d_maxpool(net, conv_num_outputs[2],conv_ksize[2],conv_strides,pool_ksize,pool_strides)\n",
    "        \n",
    "    # TODO: Apply a Flatten Layer\n",
    "    # Function Definition from Above:\n",
    "    #   flatten(x_tensor)\n",
    "    net = flatten(net)\n",
    "\n",
    "    # TODO: Apply 1, 2, or 3 Fully Connected Layers\n",
    "    #    Play around with different number of outputs\n",
    "    # Function Definition from Above:\n",
    "    #   fully_conn(x_tensor, num_outputs)\n",
    "    net = fully_conn(net,512)\n",
    "    net = tf.nn.dropout(net, keep_prob)\n",
    "    net = fully_conn(net,128)\n",
    "    net = tf.nn.dropout(net, keep_prob)\n",
    "    net = fully_conn(net,32)\n",
    "    \n",
    "    # TODO: Apply an Output Layer\n",
    "    #    Set this to the number of classes\n",
    "    # Function Definition from Above:\n",
    "    #   output(x_tensor, num_outputs)\n",
    "    \n",
    "    return output(net,num_outputs)\n",
    "\n",
    "\"\"\"\n",
    "DON'T MODIFY ANYTHING IN THIS CELL THAT IS BELOW THIS LINE\n",
    "\"\"\"\n",
    "\n",
    "##############################\n",
    "## Build the Neural Network ##\n",
    "##############################\n",
    "\n",
    "# Remove previous weights, bias, inputs, etc..\n",
    "tf.reset_default_graph()\n",
    "\n",
    "# Inputs\n",
    "x = neural_net_image_input((32, 32, 3))\n",
    "y = neural_net_label_input(10)\n",
    "keep_prob = neural_net_keep_prob_input()\n",
    "\n",
    "# Model\n",
    "logits = conv_net(x, keep_prob)\n",
    "\n",
    "# Name logits Tensor, so that is can be loaded from disk after training\n",
    "logits = tf.identity(logits, name='logits')\n",
    "\n",
    "# Loss and Optimizer\n",
    "cost = tf.reduce_mean(tf.nn.softmax_cross_entropy_with_logits(logits=logits, labels=y))\n",
    "optimizer = tf.train.AdamOptimizer().minimize(cost)\n",
    "\n",
    "# Accuracy\n",
    "correct_pred = tf.equal(tf.argmax(logits, 1), tf.argmax(y, 1))\n",
    "accuracy = tf.reduce_mean(tf.cast(correct_pred, tf.float32), name='accuracy')\n",
    "\n",
    "tests.test_conv_net(conv_net)"
   ]
  },
  {
   "cell_type": "markdown",
   "metadata": {
    "deletable": true,
    "editable": true
   },
   "source": [
    "## Train the Neural Network\n",
    "### Single Optimization\n",
    "Implement the function `train_neural_network` to do a single optimization.  The optimization should use `optimizer` to optimize in `session` with a `feed_dict` of the following:\n",
    "* `x` for image input\n",
    "* `y` for labels\n",
    "* `keep_prob` for keep probability for dropout\n",
    "\n",
    "This function will be called for each batch, so `tf.global_variables_initializer()` has already been called.\n",
    "\n",
    "Note: Nothing needs to be returned. This function is only optimizing the neural network."
   ]
  },
  {
   "cell_type": "code",
   "execution_count": 13,
   "metadata": {
    "collapsed": false,
    "deletable": true,
    "editable": true
   },
   "outputs": [
    {
     "name": "stdout",
     "output_type": "stream",
     "text": [
      "Tests Passed\n"
     ]
    }
   ],
   "source": [
    "def train_neural_network(session, optimizer, keep_probability, feature_batch, label_batch):\n",
    "    \"\"\"\n",
    "    Optimize the session on a batch of images and labels\n",
    "    : session: Current TensorFlow session\n",
    "    : optimizer: TensorFlow optimizer function\n",
    "    : keep_probability: keep probability\n",
    "    : feature_batch: Batch of Numpy image data\n",
    "    : label_batch: Batch of Numpy label data\n",
    "    \"\"\"\n",
    "    # TODO: Implement Function\n",
    "    session.run(optimizer, feed_dict={x: feature_batch, y: label_batch, keep_prob: keep_probability})\n",
    "\n",
    "\n",
    "\"\"\"\n",
    "DON'T MODIFY ANYTHING IN THIS CELL THAT IS BELOW THIS LINE\n",
    "\"\"\"\n",
    "tests.test_train_nn(train_neural_network)"
   ]
  },
  {
   "cell_type": "markdown",
   "metadata": {
    "deletable": true,
    "editable": true
   },
   "source": [
    "### Show Stats\n",
    "Implement the function `print_stats` to print loss and validation accuracy.  Use the global variables `valid_features` and `valid_labels` to calculate validation accuracy.  Use a keep probability of `1.0` to calculate the loss and validation accuracy."
   ]
  },
  {
   "cell_type": "code",
   "execution_count": 14,
   "metadata": {
    "collapsed": false,
    "deletable": true,
    "editable": true
   },
   "outputs": [],
   "source": [
    "def print_stats(session, feature_batch, label_batch, cost, accuracy):\n",
    "    \"\"\"\n",
    "    Print information about loss and validation accuracy\n",
    "    : session: Current TensorFlow session\n",
    "    : feature_batch: Batch of Numpy image data\n",
    "    : label_batch: Batch of Numpy label data\n",
    "    : cost: TensorFlow cost function\n",
    "    : accuracy: TensorFlow accuracy function\n",
    "    \"\"\"\n",
    "    loss = session.run(cost, feed_dict={x: feature_batch, y: label_batch, keep_prob: 1.0})\n",
    "    accuracy = session.run(accuracy, feed_dict={x: valid_features, y: valid_labels, keep_prob: 1.0})\n",
    "    print(\"Loss: {}\".format(loss))\n",
    "    print(\"Accuracy: {}\".format(accuracy))"
   ]
  },
  {
   "cell_type": "markdown",
   "metadata": {
    "deletable": true,
    "editable": true
   },
   "source": [
    "### Hyperparameters\n",
    "Tune the following parameters:\n",
    "* Set `epochs` to the number of iterations until the network stops learning or start overfitting\n",
    "* Set `batch_size` to the highest number that your machine has memory for.  Most people set them to common sizes of memory:\n",
    " * 64\n",
    " * 128\n",
    " * 256\n",
    " * ...\n",
    "* Set `keep_probability` to the probability of keeping a node using dropout"
   ]
  },
  {
   "cell_type": "code",
   "execution_count": 15,
   "metadata": {
    "collapsed": true,
    "deletable": true,
    "editable": true
   },
   "outputs": [],
   "source": [
    "# TODO: Tune Parameters\n",
    "epochs = 30\n",
    "batch_size = 512\n",
    "keep_probability = 0.75"
   ]
  },
  {
   "cell_type": "markdown",
   "metadata": {
    "deletable": true,
    "editable": true
   },
   "source": [
    "### Train on a Single CIFAR-10 Batch\n",
    "Instead of training the neural network on all the CIFAR-10 batches of data, let's use a single batch. This should save time while you iterate on the model to get a better accuracy.  Once the final validation accuracy is 50% or greater, run the model on all the data in the next section."
   ]
  },
  {
   "cell_type": "code",
   "execution_count": 16,
   "metadata": {
    "collapsed": false,
    "deletable": true,
    "editable": true
   },
   "outputs": [
    {
     "name": "stdout",
     "output_type": "stream",
     "text": [
      "Checking the Training on a Single Batch...\n",
      "Epoch  1, CIFAR-10 Batch 1:  Loss: 2.297182083129883\n",
      "Accuracy: 0.14180000126361847\n",
      "Epoch  2, CIFAR-10 Batch 1:  Loss: 2.168797731399536\n",
      "Accuracy: 0.19739998877048492\n",
      "Epoch  3, CIFAR-10 Batch 1:  Loss: 2.210928440093994\n",
      "Accuracy: 0.16740000247955322\n",
      "Epoch  4, CIFAR-10 Batch 1:  Loss: 2.1336379051208496\n",
      "Accuracy: 0.21079999208450317\n",
      "Epoch  5, CIFAR-10 Batch 1:  Loss: 2.1397793292999268\n",
      "Accuracy: 0.1703999787569046\n",
      "Epoch  6, CIFAR-10 Batch 1:  Loss: 2.0096964836120605\n",
      "Accuracy: 0.2537999749183655\n",
      "Epoch  7, CIFAR-10 Batch 1:  Loss: 2.053715467453003\n",
      "Accuracy: 0.2125999927520752\n",
      "Epoch  8, CIFAR-10 Batch 1:  Loss: 2.107170820236206\n",
      "Accuracy: 0.22379997372627258\n",
      "Epoch  9, CIFAR-10 Batch 1:  Loss: 1.9191455841064453\n",
      "Accuracy: 0.32259997725486755\n",
      "Epoch 10, CIFAR-10 Batch 1:  Loss: 1.8610484600067139\n",
      "Accuracy: 0.30820000171661377\n",
      "Epoch 11, CIFAR-10 Batch 1:  Loss: 1.7920122146606445\n",
      "Accuracy: 0.3277999758720398\n",
      "Epoch 12, CIFAR-10 Batch 1:  Loss: 1.7303428649902344\n",
      "Accuracy: 0.3585999608039856\n",
      "Epoch 13, CIFAR-10 Batch 1:  Loss: 1.841545581817627\n",
      "Accuracy: 0.32019999623298645\n",
      "Epoch 14, CIFAR-10 Batch 1:  Loss: 1.6783580780029297\n",
      "Accuracy: 0.3779999911785126\n",
      "Epoch 15, CIFAR-10 Batch 1:  Loss: 1.6388577222824097\n",
      "Accuracy: 0.37880000472068787\n",
      "Epoch 16, CIFAR-10 Batch 1:  Loss: 1.5955060720443726\n",
      "Accuracy: 0.3863999843597412\n",
      "Epoch 17, CIFAR-10 Batch 1:  Loss: 1.6370630264282227\n",
      "Accuracy: 0.3863999545574188\n",
      "Epoch 18, CIFAR-10 Batch 1:  Loss: 1.5378203392028809\n",
      "Accuracy: 0.39959999918937683\n",
      "Epoch 19, CIFAR-10 Batch 1:  Loss: 1.5874247550964355\n",
      "Accuracy: 0.4023999571800232\n",
      "Epoch 20, CIFAR-10 Batch 1:  Loss: 1.4957997798919678\n",
      "Accuracy: 0.43359991908073425\n",
      "Epoch 21, CIFAR-10 Batch 1:  Loss: 1.4627023935317993\n",
      "Accuracy: 0.4358000159263611\n",
      "Epoch 22, CIFAR-10 Batch 1:  Loss: 1.384852647781372\n",
      "Accuracy: 0.45959997177124023\n",
      "Epoch 23, CIFAR-10 Batch 1:  Loss: 1.3934707641601562\n",
      "Accuracy: 0.45159992575645447\n",
      "Epoch 24, CIFAR-10 Batch 1:  Loss: 1.2897800207138062\n",
      "Accuracy: 0.48319995403289795\n",
      "Epoch 25, CIFAR-10 Batch 1:  Loss: 1.2681491374969482\n",
      "Accuracy: 0.4793999493122101\n",
      "Epoch 26, CIFAR-10 Batch 1:  Loss: 1.2092458009719849\n",
      "Accuracy: 0.4965999722480774\n",
      "Epoch 27, CIFAR-10 Batch 1:  Loss: 1.210516333580017\n",
      "Accuracy: 0.4809999465942383\n",
      "Epoch 28, CIFAR-10 Batch 1:  Loss: 1.2446320056915283\n",
      "Accuracy: 0.4891999661922455\n",
      "Epoch 29, CIFAR-10 Batch 1:  Loss: 1.1944355964660645\n",
      "Accuracy: 0.49779993295669556\n",
      "Epoch 30, CIFAR-10 Batch 1:  Loss: 1.1510577201843262\n",
      "Accuracy: 0.5085999369621277\n"
     ]
    }
   ],
   "source": [
    "\"\"\"\n",
    "DON'T MODIFY ANYTHING IN THIS CELL\n",
    "\"\"\"\n",
    "print('Checking the Training on a Single Batch...')\n",
    "with tf.Session() as sess:\n",
    "    # Initializing the variables\n",
    "    sess.run(tf.global_variables_initializer())\n",
    "    \n",
    "    # Training cycle\n",
    "    for epoch in range(epochs):\n",
    "        batch_i = 1\n",
    "        for batch_features, batch_labels in helper.load_preprocess_training_batch(batch_i, batch_size):\n",
    "            train_neural_network(sess, optimizer, keep_probability, batch_features, batch_labels)\n",
    "        print('Epoch {:>2}, CIFAR-10 Batch {}:  '.format(epoch + 1, batch_i), end='')\n",
    "        print_stats(sess, batch_features, batch_labels, cost, accuracy)"
   ]
  },
  {
   "cell_type": "markdown",
   "metadata": {
    "deletable": true,
    "editable": true
   },
   "source": [
    "### Fully Train the Model\n",
    "Now that you got a good accuracy with a single CIFAR-10 batch, try it with all five batches."
   ]
  },
  {
   "cell_type": "code",
   "execution_count": 17,
   "metadata": {
    "collapsed": false,
    "deletable": true,
    "editable": true
   },
   "outputs": [
    {
     "name": "stdout",
     "output_type": "stream",
     "text": [
      "Training...\n",
      "Epoch  1, CIFAR-10 Batch 1:  Loss: 2.3013055324554443\n",
      "Accuracy: 0.12339998781681061\n",
      "Epoch  1, CIFAR-10 Batch 2:  Loss: 2.28135347366333\n",
      "Accuracy: 0.09779998660087585\n",
      "Epoch  1, CIFAR-10 Batch 3:  Loss: 2.208752155303955\n",
      "Accuracy: 0.14719997346401215\n",
      "Epoch  1, CIFAR-10 Batch 4:  Loss: 2.201840877532959\n",
      "Accuracy: 0.15759998559951782\n",
      "Epoch  1, CIFAR-10 Batch 5:  Loss: 2.0400891304016113\n",
      "Accuracy: 0.21819999814033508\n",
      "Epoch  2, CIFAR-10 Batch 1:  Loss: 2.1442699432373047\n",
      "Accuracy: 0.16459998488426208\n",
      "Epoch  2, CIFAR-10 Batch 2:  Loss: 1.9600226879119873\n",
      "Accuracy: 0.24959999322891235\n",
      "Epoch  2, CIFAR-10 Batch 3:  Loss: 1.941025733947754\n",
      "Accuracy: 0.23899997770786285\n",
      "Epoch  2, CIFAR-10 Batch 4:  Loss: 1.8174068927764893\n",
      "Accuracy: 0.29159998893737793\n",
      "Epoch  2, CIFAR-10 Batch 5:  Loss: 1.9460561275482178\n",
      "Accuracy: 0.2797999978065491\n",
      "Epoch  3, CIFAR-10 Batch 1:  Loss: 1.916785717010498\n",
      "Accuracy: 0.29280000925064087\n",
      "Epoch  3, CIFAR-10 Batch 2:  Loss: 1.7402925491333008\n",
      "Accuracy: 0.3172000050544739\n",
      "Epoch  3, CIFAR-10 Batch 3:  Loss: 1.7547621726989746\n",
      "Accuracy: 0.3061999976634979\n",
      "Epoch  3, CIFAR-10 Batch 4:  Loss: 1.6624178886413574\n",
      "Accuracy: 0.3495999872684479\n",
      "Epoch  3, CIFAR-10 Batch 5:  Loss: 1.7172225713729858\n",
      "Accuracy: 0.3651999533176422\n",
      "Epoch  4, CIFAR-10 Batch 1:  Loss: 1.73197340965271\n",
      "Accuracy: 0.37059998512268066\n",
      "Epoch  4, CIFAR-10 Batch 2:  Loss: 1.6610513925552368\n",
      "Accuracy: 0.3463999927043915\n",
      "Epoch  4, CIFAR-10 Batch 3:  Loss: 1.626425862312317\n",
      "Accuracy: 0.34579998254776\n",
      "Epoch  4, CIFAR-10 Batch 4:  Loss: 1.5159759521484375\n",
      "Accuracy: 0.3925999701023102\n",
      "Epoch  4, CIFAR-10 Batch 5:  Loss: 1.5804952383041382\n",
      "Accuracy: 0.40459996461868286\n",
      "Epoch  5, CIFAR-10 Batch 1:  Loss: 1.6694073677062988\n",
      "Accuracy: 0.4097999930381775\n",
      "Epoch  5, CIFAR-10 Batch 2:  Loss: 1.5075430870056152\n",
      "Accuracy: 0.43639999628067017\n",
      "Epoch  5, CIFAR-10 Batch 3:  Loss: 1.4165014028549194\n",
      "Accuracy: 0.41999998688697815\n",
      "Epoch  5, CIFAR-10 Batch 4:  Loss: 1.3888297080993652\n",
      "Accuracy: 0.4440000057220459\n",
      "Epoch  5, CIFAR-10 Batch 5:  Loss: 1.4672919511795044\n",
      "Accuracy: 0.43279996514320374\n",
      "Epoch  6, CIFAR-10 Batch 1:  Loss: 1.5387628078460693\n",
      "Accuracy: 0.46219998598098755\n",
      "Epoch  6, CIFAR-10 Batch 2:  Loss: 1.408329725265503\n",
      "Accuracy: 0.45159995555877686\n",
      "Epoch  6, CIFAR-10 Batch 3:  Loss: 1.2687288522720337\n",
      "Accuracy: 0.46959999203681946\n",
      "Epoch  6, CIFAR-10 Batch 4:  Loss: 1.312593936920166\n",
      "Accuracy: 0.462799996137619\n",
      "Epoch  6, CIFAR-10 Batch 5:  Loss: 1.3951382637023926\n",
      "Accuracy: 0.46399998664855957\n",
      "Epoch  7, CIFAR-10 Batch 1:  Loss: 1.4379395246505737\n",
      "Accuracy: 0.4659999907016754\n",
      "Epoch  7, CIFAR-10 Batch 2:  Loss: 1.391165852546692\n",
      "Accuracy: 0.4349999725818634\n",
      "Epoch  7, CIFAR-10 Batch 3:  Loss: 1.2505396604537964\n",
      "Accuracy: 0.4861999452114105\n",
      "Epoch  7, CIFAR-10 Batch 4:  Loss: 1.220028042793274\n",
      "Accuracy: 0.4983999729156494\n",
      "Epoch  7, CIFAR-10 Batch 5:  Loss: 1.3212578296661377\n",
      "Accuracy: 0.4833999276161194\n",
      "Epoch  8, CIFAR-10 Batch 1:  Loss: 1.3666601181030273\n",
      "Accuracy: 0.5079999566078186\n",
      "Epoch  8, CIFAR-10 Batch 2:  Loss: 1.2732315063476562\n",
      "Accuracy: 0.4753999710083008\n",
      "Epoch  8, CIFAR-10 Batch 3:  Loss: 1.1601016521453857\n",
      "Accuracy: 0.5001999735832214\n",
      "Epoch  8, CIFAR-10 Batch 4:  Loss: 1.1732032299041748\n",
      "Accuracy: 0.4891999661922455\n",
      "Epoch  8, CIFAR-10 Batch 5:  Loss: 1.255883812904358\n",
      "Accuracy: 0.5023999810218811\n",
      "Epoch  9, CIFAR-10 Batch 1:  Loss: 1.3531811237335205\n",
      "Accuracy: 0.5001999139785767\n",
      "Epoch  9, CIFAR-10 Batch 2:  Loss: 1.2780687808990479\n",
      "Accuracy: 0.460999995470047\n",
      "Epoch  9, CIFAR-10 Batch 3:  Loss: 1.086111307144165\n",
      "Accuracy: 0.5167999267578125\n",
      "Epoch  9, CIFAR-10 Batch 4:  Loss: 1.1421035528182983\n",
      "Accuracy: 0.5209999680519104\n",
      "Epoch  9, CIFAR-10 Batch 5:  Loss: 1.2253646850585938\n",
      "Accuracy: 0.5185999274253845\n",
      "Epoch 10, CIFAR-10 Batch 1:  Loss: 1.22151780128479\n",
      "Accuracy: 0.5393999814987183\n",
      "Epoch 10, CIFAR-10 Batch 2:  Loss: 1.1342822313308716\n",
      "Accuracy: 0.5323999524116516\n",
      "Epoch 10, CIFAR-10 Batch 3:  Loss: 1.0152240991592407\n",
      "Accuracy: 0.5311999320983887\n",
      "Epoch 10, CIFAR-10 Batch 4:  Loss: 1.0426462888717651\n",
      "Accuracy: 0.5425999164581299\n",
      "Epoch 10, CIFAR-10 Batch 5:  Loss: 1.1444826126098633\n",
      "Accuracy: 0.5407999157905579\n",
      "Epoch 11, CIFAR-10 Batch 1:  Loss: 1.2145203351974487\n",
      "Accuracy: 0.5505999326705933\n",
      "Epoch 11, CIFAR-10 Batch 2:  Loss: 1.0613420009613037\n",
      "Accuracy: 0.5493999123573303\n",
      "Epoch 11, CIFAR-10 Batch 3:  Loss: 0.955030083656311\n",
      "Accuracy: 0.5643999576568604\n",
      "Epoch 11, CIFAR-10 Batch 4:  Loss: 0.9548225402832031\n",
      "Accuracy: 0.5697999000549316\n",
      "Epoch 11, CIFAR-10 Batch 5:  Loss: 1.0951372385025024\n",
      "Accuracy: 0.5595998764038086\n",
      "Epoch 12, CIFAR-10 Batch 1:  Loss: 1.112960934638977\n",
      "Accuracy: 0.5555999279022217\n",
      "Epoch 12, CIFAR-10 Batch 2:  Loss: 1.0197356939315796\n",
      "Accuracy: 0.5583999156951904\n",
      "Epoch 12, CIFAR-10 Batch 3:  Loss: 0.9278386235237122\n",
      "Accuracy: 0.562999963760376\n",
      "Epoch 12, CIFAR-10 Batch 4:  Loss: 0.9452049732208252\n",
      "Accuracy: 0.5697999000549316\n",
      "Epoch 12, CIFAR-10 Batch 5:  Loss: 1.0378077030181885\n",
      "Accuracy: 0.5705999732017517\n",
      "Epoch 13, CIFAR-10 Batch 1:  Loss: 1.0455437898635864\n",
      "Accuracy: 0.5731999278068542\n",
      "Epoch 13, CIFAR-10 Batch 2:  Loss: 0.9435017108917236\n",
      "Accuracy: 0.5883998870849609\n",
      "Epoch 13, CIFAR-10 Batch 3:  Loss: 0.8858233690261841\n",
      "Accuracy: 0.5865999460220337\n",
      "Epoch 13, CIFAR-10 Batch 4:  Loss: 0.8750123977661133\n",
      "Accuracy: 0.572999894618988\n",
      "Epoch 13, CIFAR-10 Batch 5:  Loss: 0.9849443435668945\n",
      "Accuracy: 0.5881999135017395\n",
      "Epoch 14, CIFAR-10 Batch 1:  Loss: 0.9918391704559326\n",
      "Accuracy: 0.5861998796463013\n",
      "Epoch 14, CIFAR-10 Batch 2:  Loss: 0.9446203708648682\n",
      "Accuracy: 0.5875999331474304\n",
      "Epoch 14, CIFAR-10 Batch 3:  Loss: 0.8339601755142212\n",
      "Accuracy: 0.5921999216079712\n",
      "Epoch 14, CIFAR-10 Batch 4:  Loss: 0.8136959671974182\n",
      "Accuracy: 0.6017998456954956\n",
      "Epoch 14, CIFAR-10 Batch 5:  Loss: 0.9743084907531738\n",
      "Accuracy: 0.592799961566925\n",
      "Epoch 15, CIFAR-10 Batch 1:  Loss: 0.9741027355194092\n",
      "Accuracy: 0.5911999344825745\n",
      "Epoch 15, CIFAR-10 Batch 2:  Loss: 0.9539980292320251\n",
      "Accuracy: 0.5765998959541321\n",
      "Epoch 15, CIFAR-10 Batch 3:  Loss: 0.7991330027580261\n",
      "Accuracy: 0.5957999229431152\n",
      "Epoch 15, CIFAR-10 Batch 4:  Loss: 0.783755898475647\n",
      "Accuracy: 0.5888000130653381\n",
      "Epoch 15, CIFAR-10 Batch 5:  Loss: 0.8707256317138672\n",
      "Accuracy: 0.6061999201774597\n",
      "Epoch 16, CIFAR-10 Batch 1:  Loss: 0.8857244253158569\n",
      "Accuracy: 0.608199954032898\n",
      "Epoch 16, CIFAR-10 Batch 2:  Loss: 0.8657267689704895\n",
      "Accuracy: 0.6035999655723572\n",
      "Epoch 16, CIFAR-10 Batch 3:  Loss: 0.7674033045768738\n",
      "Accuracy: 0.5983998775482178\n",
      "Epoch 16, CIFAR-10 Batch 4:  Loss: 0.8176965117454529\n",
      "Accuracy: 0.5839999318122864\n",
      "Epoch 16, CIFAR-10 Batch 5:  Loss: 0.8409345149993896\n",
      "Accuracy: 0.6031998991966248\n",
      "Epoch 17, CIFAR-10 Batch 1:  Loss: 0.8911510705947876\n",
      "Accuracy: 0.6139999032020569\n",
      "Epoch 17, CIFAR-10 Batch 2:  Loss: 0.8847192525863647\n",
      "Accuracy: 0.5965998768806458\n",
      "Epoch 17, CIFAR-10 Batch 3:  Loss: 0.8077330589294434\n",
      "Accuracy: 0.6037998795509338\n",
      "Epoch 17, CIFAR-10 Batch 4:  Loss: 0.770179271697998\n",
      "Accuracy: 0.5969999432563782\n",
      "Epoch 17, CIFAR-10 Batch 5:  Loss: 0.8168551921844482\n",
      "Accuracy: 0.612799882888794\n",
      "Epoch 18, CIFAR-10 Batch 1:  Loss: 0.8509252667427063\n",
      "Accuracy: 0.6073999404907227\n",
      "Epoch 18, CIFAR-10 Batch 2:  Loss: 0.8148909211158752\n",
      "Accuracy: 0.5869998931884766\n",
      "Epoch 18, CIFAR-10 Batch 3:  Loss: 0.6768822073936462\n",
      "Accuracy: 0.610599935054779\n",
      "Epoch 18, CIFAR-10 Batch 4:  Loss: 0.7912675738334656\n",
      "Accuracy: 0.5951999425888062\n",
      "Epoch 18, CIFAR-10 Batch 5:  Loss: 0.7893742918968201\n",
      "Accuracy: 0.612799882888794\n",
      "Epoch 19, CIFAR-10 Batch 1:  Loss: 0.8295206427574158\n",
      "Accuracy: 0.6119999289512634\n",
      "Epoch 19, CIFAR-10 Batch 2:  Loss: 0.7409030199050903\n",
      "Accuracy: 0.6217999458312988\n",
      "Epoch 19, CIFAR-10 Batch 3:  Loss: 0.6313064694404602\n",
      "Accuracy: 0.6189998984336853\n",
      "Epoch 19, CIFAR-10 Batch 4:  Loss: 0.674681544303894\n",
      "Accuracy: 0.6285998821258545\n",
      "Epoch 19, CIFAR-10 Batch 5:  Loss: 0.7081019878387451\n",
      "Accuracy: 0.6241998672485352\n",
      "Epoch 20, CIFAR-10 Batch 1:  Loss: 0.7663443684577942\n",
      "Accuracy: 0.6083999276161194\n",
      "Epoch 20, CIFAR-10 Batch 2:  Loss: 0.7197393774986267\n",
      "Accuracy: 0.623999834060669\n",
      "Epoch 20, CIFAR-10 Batch 3:  Loss: 0.5780784487724304\n",
      "Accuracy: 0.6287999153137207\n",
      "Epoch 20, CIFAR-10 Batch 4:  Loss: 0.6561746001243591\n",
      "Accuracy: 0.6269999146461487\n",
      "Epoch 20, CIFAR-10 Batch 5:  Loss: 0.6970760226249695\n",
      "Accuracy: 0.6347998976707458\n",
      "Epoch 21, CIFAR-10 Batch 1:  Loss: 0.7881563901901245\n",
      "Accuracy: 0.6137998700141907\n",
      "Epoch 21, CIFAR-10 Batch 2:  Loss: 0.7034960389137268\n",
      "Accuracy: 0.6249998807907104\n",
      "Epoch 21, CIFAR-10 Batch 3:  Loss: 0.5710048675537109\n",
      "Accuracy: 0.6189998984336853\n",
      "Epoch 21, CIFAR-10 Batch 4:  Loss: 0.6126559376716614\n",
      "Accuracy: 0.6143999099731445\n",
      "Epoch 21, CIFAR-10 Batch 5:  Loss: 0.6094856262207031\n",
      "Accuracy: 0.6441998481750488\n",
      "Epoch 22, CIFAR-10 Batch 1:  Loss: 0.6579641699790955\n",
      "Accuracy: 0.6287999153137207\n",
      "Epoch 22, CIFAR-10 Batch 2:  Loss: 0.6038588285446167\n",
      "Accuracy: 0.6269999146461487\n",
      "Epoch 22, CIFAR-10 Batch 3:  Loss: 0.593703031539917\n",
      "Accuracy: 0.6233999133110046\n",
      "Epoch 22, CIFAR-10 Batch 4:  Loss: 0.5732306838035583\n",
      "Accuracy: 0.6267999410629272\n",
      "Epoch 22, CIFAR-10 Batch 5:  Loss: 0.5469174385070801\n",
      "Accuracy: 0.6299998760223389\n",
      "Epoch 23, CIFAR-10 Batch 1:  Loss: 0.6619635820388794\n",
      "Accuracy: 0.6253998875617981\n",
      "Epoch 23, CIFAR-10 Batch 2:  Loss: 0.5994929075241089\n",
      "Accuracy: 0.6353999376296997\n",
      "Epoch 23, CIFAR-10 Batch 3:  Loss: 0.5653286576271057\n",
      "Accuracy: 0.6153998970985413\n",
      "Epoch 23, CIFAR-10 Batch 4:  Loss: 0.6055172681808472\n",
      "Accuracy: 0.6263998746871948\n",
      "Epoch 23, CIFAR-10 Batch 5:  Loss: 0.516700804233551\n",
      "Accuracy: 0.6365998983383179\n",
      "Epoch 24, CIFAR-10 Batch 1:  Loss: 0.6341358423233032\n",
      "Accuracy: 0.629599928855896\n",
      "Epoch 24, CIFAR-10 Batch 2:  Loss: 0.5533331036567688\n",
      "Accuracy: 0.6287999153137207\n",
      "Epoch 24, CIFAR-10 Batch 3:  Loss: 0.4854629635810852\n",
      "Accuracy: 0.6197999119758606\n",
      "Epoch 24, CIFAR-10 Batch 4:  Loss: 0.6264188885688782\n",
      "Accuracy: 0.5959999561309814\n",
      "Epoch 24, CIFAR-10 Batch 5:  Loss: 0.467013955116272\n",
      "Accuracy: 0.6285999417304993\n",
      "Epoch 25, CIFAR-10 Batch 1:  Loss: 0.5805915594100952\n",
      "Accuracy: 0.6317999362945557\n",
      "Epoch 25, CIFAR-10 Batch 2:  Loss: 0.544623851776123\n",
      "Accuracy: 0.6319999098777771\n",
      "Epoch 25, CIFAR-10 Batch 3:  Loss: 0.48869141936302185\n",
      "Accuracy: 0.6165999174118042\n",
      "Epoch 25, CIFAR-10 Batch 4:  Loss: 0.537400484085083\n",
      "Accuracy: 0.6239998936653137\n",
      "Epoch 25, CIFAR-10 Batch 5:  Loss: 0.458074688911438\n",
      "Accuracy: 0.6325998306274414\n",
      "Epoch 26, CIFAR-10 Batch 1:  Loss: 0.5763949751853943\n",
      "Accuracy: 0.6257999539375305\n",
      "Epoch 26, CIFAR-10 Batch 2:  Loss: 0.540037989616394\n",
      "Accuracy: 0.6335998773574829\n",
      "Epoch 26, CIFAR-10 Batch 3:  Loss: 0.6327900886535645\n",
      "Accuracy: 0.5749999284744263\n",
      "Epoch 26, CIFAR-10 Batch 4:  Loss: 0.5121577382087708\n",
      "Accuracy: 0.6205999255180359\n",
      "Epoch 26, CIFAR-10 Batch 5:  Loss: 0.4833880066871643\n",
      "Accuracy: 0.6245999336242676\n",
      "Epoch 27, CIFAR-10 Batch 1:  Loss: 0.5314884781837463\n",
      "Accuracy: 0.6391999125480652\n",
      "Epoch 27, CIFAR-10 Batch 2:  Loss: 0.4658212661743164\n",
      "Accuracy: 0.6399998664855957\n",
      "Epoch 27, CIFAR-10 Batch 3:  Loss: 0.6195354461669922\n",
      "Accuracy: 0.5947999358177185\n",
      "Epoch 27, CIFAR-10 Batch 4:  Loss: 0.4695490002632141\n",
      "Accuracy: 0.6303999423980713\n",
      "Epoch 27, CIFAR-10 Batch 5:  Loss: 0.4191330075263977\n",
      "Accuracy: 0.6337999105453491\n",
      "Epoch 28, CIFAR-10 Batch 1:  Loss: 0.5174598097801208\n",
      "Accuracy: 0.6327998638153076\n",
      "Epoch 28, CIFAR-10 Batch 2:  Loss: 0.4761785864830017\n",
      "Accuracy: 0.6353998780250549\n",
      "Epoch 28, CIFAR-10 Batch 3:  Loss: 0.5273063778877258\n",
      "Accuracy: 0.6005998849868774\n",
      "Epoch 28, CIFAR-10 Batch 4:  Loss: 0.45874398946762085\n",
      "Accuracy: 0.6327998638153076\n",
      "Epoch 28, CIFAR-10 Batch 5:  Loss: 0.3799850344657898\n",
      "Accuracy: 0.6405999064445496\n",
      "Epoch 29, CIFAR-10 Batch 1:  Loss: 0.5794755220413208\n",
      "Accuracy: 0.618399977684021\n",
      "Epoch 29, CIFAR-10 Batch 2:  Loss: 0.4396342635154724\n",
      "Accuracy: 0.6233999133110046\n",
      "Epoch 29, CIFAR-10 Batch 3:  Loss: 0.4986836910247803\n",
      "Accuracy: 0.6143998503684998\n",
      "Epoch 29, CIFAR-10 Batch 4:  Loss: 0.3991861343383789\n",
      "Accuracy: 0.6393998861312866\n",
      "Epoch 29, CIFAR-10 Batch 5:  Loss: 0.38255637884140015\n",
      "Accuracy: 0.6393999457359314\n",
      "Epoch 30, CIFAR-10 Batch 1:  Loss: 0.5802169442176819\n",
      "Accuracy: 0.6307998895645142\n",
      "Epoch 30, CIFAR-10 Batch 2:  Loss: 0.3822483718395233\n",
      "Accuracy: 0.637199878692627\n",
      "Epoch 30, CIFAR-10 Batch 3:  Loss: 0.4465450942516327\n",
      "Accuracy: 0.6155999302864075\n",
      "Epoch 30, CIFAR-10 Batch 4:  Loss: 0.4248415529727936\n",
      "Accuracy: 0.626599907875061\n",
      "Epoch 30, CIFAR-10 Batch 5:  Loss: 0.36480140686035156\n",
      "Accuracy: 0.6481998562812805\n"
     ]
    }
   ],
   "source": [
    "\"\"\"\n",
    "DON'T MODIFY ANYTHING IN THIS CELL\n",
    "\"\"\"\n",
    "save_model_path = './image_classification'\n",
    "\n",
    "print('Training...')\n",
    "with tf.Session() as sess:\n",
    "    # Initializing the variables\n",
    "    sess.run(tf.global_variables_initializer())\n",
    "    \n",
    "    # Training cycle\n",
    "    for epoch in range(epochs):\n",
    "        # Loop over all batches\n",
    "        n_batches = 5\n",
    "        for batch_i in range(1, n_batches + 1):\n",
    "            for batch_features, batch_labels in helper.load_preprocess_training_batch(batch_i, batch_size):\n",
    "                train_neural_network(sess, optimizer, keep_probability, batch_features, batch_labels)\n",
    "            print('Epoch {:>2}, CIFAR-10 Batch {}:  '.format(epoch + 1, batch_i), end='')\n",
    "            print_stats(sess, batch_features, batch_labels, cost, accuracy)\n",
    "            \n",
    "    # Save Model\n",
    "    saver = tf.train.Saver()\n",
    "    save_path = saver.save(sess, save_model_path)"
   ]
  },
  {
   "cell_type": "markdown",
   "metadata": {
    "deletable": true,
    "editable": true
   },
   "source": [
    "# Checkpoint\n",
    "The model has been saved to disk.\n",
    "## Test Model\n",
    "Test your model against the test dataset.  This will be your final accuracy. You should have an accuracy greater than 50%. If you don't, keep tweaking the model architecture and parameters."
   ]
  },
  {
   "cell_type": "code",
   "execution_count": 23,
   "metadata": {
    "collapsed": false,
    "deletable": true,
    "editable": true
   },
   "outputs": [
    {
     "name": "stdout",
     "output_type": "stream",
     "text": [
      "Testing Accuracy: 0.6385167717933655\n",
      "\n"
     ]
    },
    {
     "data": {
      "image/png": "[encoded data removed]",
      "text/plain": [
       "<matplotlib.figure.Figure at 0x7f44b2896ef0>"
      ]
     },
     "metadata": {
      "image/png": {
       "height": 319,
       "width": 355
      }
     },
     "output_type": "display_data"
    }
   ],
   "source": [
    "\"\"\"\n",
    "DON'T MODIFY ANYTHING IN THIS CELL\n",
    "\"\"\"\n",
    "%matplotlib inline\n",
    "%config InlineBackend.figure_format = 'retina'\n",
    "\n",
    "import tensorflow as tf\n",
    "import pickle\n",
    "import helper\n",
    "import random\n",
    "\n",
    "# Set batch size if not already set\n",
    "try:\n",
    "    if batch_size:\n",
    "        pass\n",
    "except NameError:\n",
    "    batch_size = 64\n",
    "\n",
    "save_model_path = './image_classification'\n",
    "n_samples = 4\n",
    "top_n_predictions = 3\n",
    "\n",
    "def test_model():\n",
    "    \"\"\"\n",
    "    Test the saved model against the test dataset\n",
    "    \"\"\"\n",
    "\n",
    "    test_features, test_labels = pickle.load(open('preprocess_training.p', mode='rb'))\n",
    "    loaded_graph = tf.Graph()\n",
    "\n",
    "    with tf.Session(graph=loaded_graph) as sess:\n",
    "        # Load model\n",
    "        loader = tf.train.import_meta_graph(save_model_path + '.meta')\n",
    "        loader.restore(sess, save_model_path)\n",
    "\n",
    "        # Get Tensors from loaded model\n",
    "        loaded_x = loaded_graph.get_tensor_by_name('x:0')\n",
    "        loaded_y = loaded_graph.get_tensor_by_name('y:0')\n",
    "        loaded_keep_prob = loaded_graph.get_tensor_by_name('keep_prob:0')\n",
    "        loaded_logits = loaded_graph.get_tensor_by_name('logits:0')\n",
    "        loaded_acc = loaded_graph.get_tensor_by_name('accuracy:0')\n",
    "        \n",
    "        # Get accuracy in batches for memory limitations\n",
    "        test_batch_acc_total = 0\n",
    "        test_batch_count = 0\n",
    "        \n",
    "        for train_feature_batch, train_label_batch in helper.batch_features_labels(test_features, test_labels, batch_size):\n",
    "            test_batch_acc_total += sess.run(\n",
    "                loaded_acc,\n",
    "                feed_dict={loaded_x: train_feature_batch, loaded_y: train_label_batch, loaded_keep_prob: 1.0})\n",
    "            test_batch_count += 1\n",
    "\n",
    "        print('Testing Accuracy: {}\\n'.format(test_batch_acc_total/test_batch_count))\n",
    "\n",
    "        # Print Random Samples\n",
    "        random_test_features, random_test_labels = tuple(zip(*random.sample(list(zip(test_features, test_labels)), n_samples)))\n",
    "        random_test_predictions = sess.run(\n",
    "            tf.nn.top_k(tf.nn.softmax(loaded_logits), top_n_predictions),\n",
    "            feed_dict={loaded_x: random_test_features, loaded_y: random_test_labels, loaded_keep_prob: 1.0})\n",
    "        helper.display_image_predictions(random_test_features, random_test_labels, random_test_predictions)\n",
    "\n",
    "\n",
    "test_model()"
   ]
  },
  {
   "cell_type": "markdown",
   "metadata": {
    "deletable": true,
    "editable": true
   },
   "source": [
    "## Why 50-70% Accuracy?\n",
    "You might be wondering why you can't get an accuracy any higher. First things first, 50% isn't bad for a simple CNN.  Pure guessing would get you 10% accuracy. However, you might notice people are getting scores [well above 70%](http://rodrigob.github.io/are_we_there_yet/build/classification_datasets_results.html#43494641522d3130).  That's because we haven't taught you all there is to know about neural networks. We still need to cover a few more techniques.\n",
    "## Submitting This Project\n",
    "When submitting this project, make sure to run all the cells before saving the notebook.  Save the notebook file as \"dlnd_image_classification.ipynb\" and save it as a HTML file under \"File\" -> \"Download as\".  Include the \"helper.py\" and \"problem_unittests.py\" files in your submission."
   ]
  }
 ],
 "metadata": {
  "anaconda-cloud": {},
  "kernelspec": {
   "display_name": "Python 3",
   "language": "python",
   "name": "python3"
  },
  "language_info": {
   "codemirror_mode": {
    "name": "ipython",
    "version": 3
   },
   "file_extension": ".py",
   "mimetype": "text/x-python",
   "name": "python",
   "nbconvert_exporter": "python",
   "pygments_lexer": "ipython3",
   "version": "3.5.2"
  },
  "widgets": {
   "state": {},
   "version": "1.1.2"
  }
 },
 "nbformat": 4,
 "nbformat_minor": 0
}
